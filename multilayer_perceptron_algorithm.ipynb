{
 "cells": [
  {
   "cell_type": "code",
   "execution_count": 13,
   "metadata": {},
   "outputs": [
    {
     "name": "stdout",
     "output_type": "stream",
     "text": [
      "Epoch 1/100\n",
      "1/1 [==============================] - 0s 988us/step - loss: 0.7998 - acc: 0.5000\n",
      "Epoch 2/100\n",
      "1/1 [==============================] - 0s 998us/step - loss: 0.7167 - acc: 0.5000\n",
      "Epoch 3/100\n",
      "1/1 [==============================] - 0s 2ms/step - loss: 0.6609 - acc: 0.5000\n",
      "Epoch 4/100\n",
      "1/1 [==============================] - 0s 1ms/step - loss: 0.6173 - acc: 0.5000\n",
      "Epoch 5/100\n",
      "1/1 [==============================] - 0s 0s/step - loss: 0.5811 - acc: 0.5000\n",
      "Epoch 6/100\n",
      "1/1 [==============================] - 0s 1000us/step - loss: 0.5501 - acc: 0.5000\n",
      "Epoch 7/100\n",
      "1/1 [==============================] - 0s 1ms/step - loss: 0.5230 - acc: 0.5000\n",
      "Epoch 8/100\n",
      "1/1 [==============================] - 0s 999us/step - loss: 0.4990 - acc: 0.5000\n",
      "Epoch 9/100\n",
      "1/1 [==============================] - 0s 1000us/step - loss: 0.4775 - acc: 0.5000\n",
      "Epoch 10/100\n",
      "1/1 [==============================] - 0s 1000us/step - loss: 0.4581 - acc: 0.5000\n",
      "Epoch 11/100\n",
      "1/1 [==============================] - 0s 999us/step - loss: 0.4406 - acc: 0.5000\n",
      "Epoch 12/100\n",
      "1/1 [==============================] - 0s 999us/step - loss: 0.4247 - acc: 0.5000\n",
      "Epoch 13/100\n",
      "1/1 [==============================] - 0s 999us/step - loss: 0.4101 - acc: 0.5000\n",
      "Epoch 14/100\n",
      "1/1 [==============================] - 0s 1ms/step - loss: 0.3968 - acc: 0.5000\n",
      "Epoch 15/100\n",
      "1/1 [==============================] - 0s 999us/step - loss: 0.3846 - acc: 0.5000\n",
      "Epoch 16/100\n",
      "1/1 [==============================] - 0s 999us/step - loss: 0.3734 - acc: 0.5000\n",
      "Epoch 17/100\n",
      "1/1 [==============================] - 0s 1ms/step - loss: 0.3631 - acc: 0.5000\n",
      "Epoch 18/100\n",
      "1/1 [==============================] - 0s 1ms/step - loss: 0.3536 - acc: 0.5000\n",
      "Epoch 19/100\n",
      "1/1 [==============================] - 0s 2ms/step - loss: 0.3448 - acc: 0.5000\n",
      "Epoch 20/100\n",
      "1/1 [==============================] - 0s 1ms/step - loss: 0.3368 - acc: 0.5000\n",
      "Epoch 21/100\n",
      "1/1 [==============================] - 0s 1ms/step - loss: 0.3294 - acc: 0.5000\n",
      "Epoch 22/100\n",
      "1/1 [==============================] - 0s 1ms/step - loss: 0.3225 - acc: 0.5000\n",
      "Epoch 23/100\n",
      "1/1 [==============================] - 0s 1000us/step - loss: 0.3162 - acc: 0.5000\n",
      "Epoch 24/100\n",
      "1/1 [==============================] - 0s 1000us/step - loss: 0.3104 - acc: 0.5000\n",
      "Epoch 25/100\n",
      "1/1 [==============================] - 0s 1ms/step - loss: 0.3050 - acc: 0.5000\n",
      "Epoch 26/100\n",
      "1/1 [==============================] - 0s 2ms/step - loss: 0.3001 - acc: 0.5000\n",
      "Epoch 27/100\n",
      "1/1 [==============================] - 0s 1ms/step - loss: 0.2955 - acc: 0.5000\n",
      "Epoch 28/100\n",
      "1/1 [==============================] - 0s 998us/step - loss: 0.2913 - acc: 0.5000\n",
      "Epoch 29/100\n",
      "1/1 [==============================] - 0s 998us/step - loss: 0.2875 - acc: 0.5000\n",
      "Epoch 30/100\n",
      "1/1 [==============================] - 0s 1000us/step - loss: 0.2839 - acc: 0.5000\n",
      "Epoch 31/100\n",
      "1/1 [==============================] - 0s 1ms/step - loss: 0.2806 - acc: 0.5000\n",
      "Epoch 32/100\n",
      "1/1 [==============================] - 0s 1ms/step - loss: 0.2776 - acc: 0.5000\n",
      "Epoch 33/100\n",
      "1/1 [==============================] - 0s 999us/step - loss: 0.2749 - acc: 0.5000\n",
      "Epoch 34/100\n",
      "1/1 [==============================] - 0s 1ms/step - loss: 0.2723 - acc: 0.5000\n",
      "Epoch 35/100\n",
      "1/1 [==============================] - 0s 1000us/step - loss: 0.2700 - acc: 0.5000\n",
      "Epoch 36/100\n",
      "1/1 [==============================] - 0s 999us/step - loss: 0.2679 - acc: 0.5000\n",
      "Epoch 37/100\n",
      "1/1 [==============================] - 0s 1ms/step - loss: 0.2660 - acc: 0.5000\n",
      "Epoch 38/100\n",
      "1/1 [==============================] - 0s 999us/step - loss: 0.2642 - acc: 0.5000\n",
      "Epoch 39/100\n",
      "1/1 [==============================] - 0s 1ms/step - loss: 0.2626 - acc: 0.5000\n",
      "Epoch 40/100\n",
      "1/1 [==============================] - 0s 999us/step - loss: 0.2611 - acc: 0.5000\n",
      "Epoch 41/100\n",
      "1/1 [==============================] - 0s 998us/step - loss: 0.2598 - acc: 0.2500\n",
      "Epoch 42/100\n",
      "1/1 [==============================] - 0s 999us/step - loss: 0.2586 - acc: 0.2500\n",
      "Epoch 43/100\n",
      "1/1 [==============================] - 0s 1ms/step - loss: 0.2575 - acc: 0.2500\n",
      "Epoch 44/100\n",
      "1/1 [==============================] - 0s 1000us/step - loss: 0.2565 - acc: 0.2500\n",
      "Epoch 45/100\n",
      "1/1 [==============================] - 0s 2ms/step - loss: 0.2556 - acc: 0.2500\n",
      "Epoch 46/100\n",
      "1/1 [==============================] - 0s 999us/step - loss: 0.2548 - acc: 0.2500\n",
      "Epoch 47/100\n",
      "1/1 [==============================] - 0s 1ms/step - loss: 0.2541 - acc: 0.2500\n",
      "Epoch 48/100\n",
      "1/1 [==============================] - 0s 1ms/step - loss: 0.2534 - acc: 0.2500\n",
      "Epoch 49/100\n",
      "1/1 [==============================] - 0s 1ms/step - loss: 0.2529 - acc: 0.2500\n",
      "Epoch 50/100\n",
      "1/1 [==============================] - 0s 997us/step - loss: 0.2523 - acc: 0.2500\n",
      "Epoch 51/100\n",
      "1/1 [==============================] - 0s 998us/step - loss: 0.2519 - acc: 0.2500\n",
      "Epoch 52/100\n",
      "1/1 [==============================] - 0s 2ms/step - loss: 0.2515 - acc: 0.2500\n",
      "Epoch 53/100\n",
      "1/1 [==============================] - 0s 1000us/step - loss: 0.2511 - acc: 0.2500\n",
      "Epoch 54/100\n",
      "1/1 [==============================] - 0s 998us/step - loss: 0.2508 - acc: 0.2500\n",
      "Epoch 55/100\n",
      "1/1 [==============================] - 0s 2ms/step - loss: 0.2505 - acc: 0.2500\n",
      "Epoch 56/100\n",
      "1/1 [==============================] - 0s 1ms/step - loss: 0.2502 - acc: 0.2500\n",
      "Epoch 57/100\n",
      "1/1 [==============================] - 0s 999us/step - loss: 0.2499 - acc: 0.2500\n",
      "Epoch 58/100\n",
      "1/1 [==============================] - 0s 1ms/step - loss: 0.2497 - acc: 0.2500\n",
      "Epoch 59/100\n",
      "1/1 [==============================] - 0s 999us/step - loss: 0.2495 - acc: 0.2500\n",
      "Epoch 60/100\n",
      "1/1 [==============================] - 0s 0s/step - loss: 0.2493 - acc: 0.2500\n",
      "Epoch 61/100\n",
      "1/1 [==============================] - 0s 998us/step - loss: 0.2491 - acc: 0.5000\n",
      "Epoch 62/100\n",
      "1/1 [==============================] - 0s 998us/step - loss: 0.2490 - acc: 0.5000\n",
      "Epoch 63/100\n",
      "1/1 [==============================] - 0s 1ms/step - loss: 0.2488 - acc: 0.5000\n",
      "Epoch 64/100\n",
      "1/1 [==============================] - 0s 1ms/step - loss: 0.2487 - acc: 0.7500\n",
      "Epoch 65/100\n",
      "1/1 [==============================] - 0s 998us/step - loss: 0.2485 - acc: 0.7500\n",
      "Epoch 66/100\n",
      "1/1 [==============================] - 0s 999us/step - loss: 0.2483 - acc: 0.7500\n",
      "Epoch 67/100\n",
      "1/1 [==============================] - 0s 999us/step - loss: 0.2482 - acc: 0.7500\n",
      "Epoch 68/100\n",
      "1/1 [==============================] - 0s 996us/step - loss: 0.2480 - acc: 0.7500\n",
      "Epoch 69/100\n",
      "1/1 [==============================] - 0s 999us/step - loss: 0.2479 - acc: 0.7500\n",
      "Epoch 70/100\n",
      "1/1 [==============================] - 0s 999us/step - loss: 0.2477 - acc: 0.7500\n",
      "Epoch 71/100\n",
      "1/1 [==============================] - 0s 999us/step - loss: 0.2475 - acc: 0.7500\n",
      "Epoch 72/100\n",
      "1/1 [==============================] - 0s 999us/step - loss: 0.2474 - acc: 0.7500\n",
      "Epoch 73/100\n",
      "1/1 [==============================] - 0s 1000us/step - loss: 0.2472 - acc: 0.7500\n",
      "Epoch 74/100\n",
      "1/1 [==============================] - 0s 2ms/step - loss: 0.2470 - acc: 0.7500\n",
      "Epoch 75/100\n",
      "1/1 [==============================] - 0s 999us/step - loss: 0.2468 - acc: 0.7500\n",
      "Epoch 76/100\n",
      "1/1 [==============================] - 0s 1ms/step - loss: 0.2466 - acc: 0.7500\n",
      "Epoch 77/100\n",
      "1/1 [==============================] - 0s 999us/step - loss: 0.2464 - acc: 0.7500\n",
      "Epoch 78/100\n",
      "1/1 [==============================] - 0s 1ms/step - loss: 0.2462 - acc: 0.7500\n",
      "Epoch 79/100\n",
      "1/1 [==============================] - 0s 996us/step - loss: 0.2459 - acc: 0.7500\n",
      "Epoch 80/100\n",
      "1/1 [==============================] - 0s 1000us/step - loss: 0.2457 - acc: 0.7500\n",
      "Epoch 81/100\n",
      "1/1 [==============================] - 0s 998us/step - loss: 0.2455 - acc: 0.7500\n",
      "Epoch 82/100\n",
      "1/1 [==============================] - 0s 1ms/step - loss: 0.2452 - acc: 0.7500\n",
      "Epoch 83/100\n",
      "1/1 [==============================] - 0s 999us/step - loss: 0.2450 - acc: 0.7500\n",
      "Epoch 84/100\n",
      "1/1 [==============================] - 0s 998us/step - loss: 0.2447 - acc: 0.7500\n",
      "Epoch 85/100\n",
      "1/1 [==============================] - 0s 0s/step - loss: 0.2445 - acc: 0.7500\n",
      "Epoch 86/100\n",
      "1/1 [==============================] - 0s 998us/step - loss: 0.2442 - acc: 0.7500\n",
      "Epoch 87/100\n",
      "1/1 [==============================] - 0s 1ms/step - loss: 0.2439 - acc: 0.7500\n",
      "Epoch 88/100\n"
     ]
    },
    {
     "name": "stdout",
     "output_type": "stream",
     "text": [
      "1/1 [==============================] - 0s 1000us/step - loss: 0.2436 - acc: 0.7500\n",
      "Epoch 89/100\n",
      "1/1 [==============================] - 0s 2ms/step - loss: 0.2433 - acc: 0.7500\n",
      "Epoch 90/100\n",
      "1/1 [==============================] - 0s 1ms/step - loss: 0.2430 - acc: 0.7500\n",
      "Epoch 91/100\n",
      "1/1 [==============================] - 0s 2ms/step - loss: 0.2427 - acc: 0.7500\n",
      "Epoch 92/100\n",
      "1/1 [==============================] - 0s 999us/step - loss: 0.2424 - acc: 0.7500\n",
      "Epoch 93/100\n",
      "1/1 [==============================] - 0s 998us/step - loss: 0.2421 - acc: 0.7500\n",
      "Epoch 94/100\n",
      "1/1 [==============================] - 0s 1ms/step - loss: 0.2418 - acc: 0.7500\n",
      "Epoch 95/100\n",
      "1/1 [==============================] - 0s 1ms/step - loss: 0.2415 - acc: 0.7500\n",
      "Epoch 96/100\n",
      "1/1 [==============================] - 0s 1ms/step - loss: 0.2411 - acc: 0.7500\n",
      "Epoch 97/100\n",
      "1/1 [==============================] - 0s 1ms/step - loss: 0.2408 - acc: 0.7500\n",
      "Epoch 98/100\n",
      "1/1 [==============================] - 0s 999us/step - loss: 0.2405 - acc: 0.7500\n",
      "Epoch 99/100\n",
      "1/1 [==============================] - 0s 1ms/step - loss: 0.2401 - acc: 0.7500\n",
      "Epoch 100/100\n",
      "1/1 [==============================] - 0s 0s/step - loss: 0.2398 - acc: 0.7500\n"
     ]
    },
    {
     "data": {
      "text/plain": [
       "<tensorflow.python.keras.callbacks.History at 0x176ebaf2a90>"
      ]
     },
     "execution_count": 13,
     "metadata": {},
     "output_type": "execute_result"
    }
   ],
   "source": [
    "import tensorflow as tf\n",
    "tf.random.set_seed(777) #시드 설정\n",
    "\n",
    "import numpy as np\n",
    "from tensorflow.keras.models import Sequential\n",
    "from tensorflow.keras.layers import Dense\n",
    "from tensorflow.keras.optimizers import RMSprop\n",
    "from tensorflow.keras.losses import mse\n",
    "\n",
    "#데이터 준비\n",
    "data = np.array([[0,0],[1,0],[0,1],[1,1]])\n",
    "label = np.array([[0],[1],[1],[0]])\n",
    "\n",
    "#모델 구성하기\n",
    "model = Sequential()\n",
    "model.add(Dense(32, input_shape = (2, ), activation ='tanh'))\n",
    "\n",
    "#다중 퍼셉트론을 구성\n",
    "model.add(Dense(1, activation = 'tanh'))\n",
    "\n",
    "#모델 준비하기\n",
    "model.compile(optimizer = RMSprop(),\n",
    "              loss =mse,\n",
    "              metrics = ['acc'])\n",
    "\n",
    "#학습\n",
    "model.fit(data, label, epochs = 100)"
   ]
  },
  {
   "cell_type": "code",
   "execution_count": 7,
   "metadata": {},
   "outputs": [
    {
     "data": {
      "text/plain": [
       "[array([[ 0.1393525 , -0.27036768,  0.505829  ,  0.10854518, -0.21431386,\n",
       "          0.28728998,  0.32620195, -0.06475353, -0.13779789, -0.23925437,\n",
       "          0.07383306, -0.01628259,  0.16825147,  0.08963591,  0.09255232,\n",
       "          0.3898385 , -0.03311983, -0.37055987, -0.3493019 ,  0.2576629 ,\n",
       "         -0.20521054, -0.25155994, -0.12625915,  0.09208444, -0.21908349,\n",
       "         -0.4093977 ,  0.3606869 , -0.17278033, -0.15938419,  0.31638056,\n",
       "         -0.33862218, -0.00082418],\n",
       "        [-0.32846928,  0.22543132,  0.21532859, -0.19489145,  0.12499534,\n",
       "          0.12500226, -0.1386899 ,  0.28812677,  0.06527964,  0.1395058 ,\n",
       "          0.07313637,  0.13415737,  0.00272323,  0.40131578,  0.3763591 ,\n",
       "          0.27341044, -0.01398495, -0.06497911,  0.04891233,  0.41930494,\n",
       "          0.38548303,  0.27742878, -0.2543157 ,  0.33930945,  0.35519043,\n",
       "         -0.17654489, -0.3599964 , -0.3430747 ,  0.15461922,  0.24678177,\n",
       "          0.05100494, -0.4087645 ]], dtype=float32),\n",
       " array([-0.0228462 ,  0.00162174,  0.00068705, -0.11007863,  0.00155826,\n",
       "        -0.10723921, -0.06482328,  0.03982147, -0.06691755,  0.00133948,\n",
       "        -0.07212899,  0.02520509, -0.08087032, -0.088394  , -0.09212714,\n",
       "         0.00053397,  0.        ,  0.        , -0.04907774, -0.1095317 ,\n",
       "        -0.0179703 , -0.02329341,  0.        , -0.09239515, -0.02024518,\n",
       "         0.        ,  0.00050109,  0.        , -0.00062124,  0.00079266,\n",
       "        -0.05225775,  0.        ], dtype=float32),\n",
       " array([[ 0.03453087],\n",
       "        [ 0.31227598],\n",
       "        [ 0.24003918],\n",
       "        [-0.24905556],\n",
       "        [ 0.32431868],\n",
       "        [-0.41981184],\n",
       "        [-0.01097379],\n",
       "        [-0.01410063],\n",
       "        [-0.33924052],\n",
       "        [ 0.25829583],\n",
       "        [-0.1136068 ],\n",
       "        [-0.29169476],\n",
       "        [-0.31563047],\n",
       "        [-0.2532465 ],\n",
       "        [-0.43807197],\n",
       "        [ 0.19321683],\n",
       "        [ 0.32401264],\n",
       "        [-0.16413954],\n",
       "        [-0.23799042],\n",
       "        [-0.17269227],\n",
       "        [ 0.5191722 ],\n",
       "        [ 0.18591428],\n",
       "        [ 0.08726311],\n",
       "        [-0.42905542],\n",
       "        [ 0.26326415],\n",
       "        [ 0.28108388],\n",
       "        [ 0.24977358],\n",
       "        [-0.16080421],\n",
       "        [ 0.25251433],\n",
       "        [ 0.2449509 ],\n",
       "        [-0.33338794],\n",
       "        [ 0.32357073]], dtype=float32),\n",
       " array([-0.04776818], dtype=float32)]"
      ]
     },
     "execution_count": 7,
     "metadata": {},
     "output_type": "execute_result"
    }
   ],
   "source": [
    "model.get_weights()"
   ]
  },
  {
   "cell_type": "code",
   "execution_count": 12,
   "metadata": {},
   "outputs": [
    {
     "name": "stdout",
     "output_type": "stream",
     "text": [
      "1/1 [==============================] - 0s 987us/step - loss: 0.1763 - acc: 0.7500\n"
     ]
    },
    {
     "data": {
      "text/plain": [
       "[0.17634719610214233, 0.75]"
      ]
     },
     "execution_count": 12,
     "metadata": {},
     "output_type": "execute_result"
    }
   ],
   "source": [
    "model.evaluate(data, label)"
   ]
  },
  {
   "cell_type": "code",
   "execution_count": 14,
   "metadata": {},
   "outputs": [
    {
     "name": "stdout",
     "output_type": "stream",
     "text": [
      "[[0.40746838]\n",
      " [0.50914896]\n",
      " [0.50577426]\n",
      " [0.5536029 ]]\n"
     ]
    }
   ],
   "source": [
    "result = model.predict(data)\n",
    "print(result)"
   ]
  },
  {
   "cell_type": "code",
   "execution_count": 15,
   "metadata": {},
   "outputs": [],
   "source": [
    "import numpy as np\n",
    "import matplotlib.pyplot as plt\n",
    "import math\n",
    "\n",
    "# 시그모이드 함수\n",
    "def sigmoid(x):\n",
    "    return 1 / (1 + np.exp(-x))\n",
    "\n",
    "# 하이퍼볼릭탄젠트 함수\n",
    "def tanh(x):\n",
    "    return list(map(lambda x : math.tanh(x), x))\n",
    "\n",
    "# relu 함수\n",
    "def relu(x):\n",
    "    result = []\n",
    "    for ele in x:\n",
    "        if(ele <= 0):\n",
    "            result.append(0)\n",
    "        else:\n",
    "            result.append(ele)\n",
    "            \n",
    "    return result"
   ]
  },
  {
   "cell_type": "code",
   "execution_count": 16,
   "metadata": {},
   "outputs": [
    {
     "data": {
      "image/png": "[encoded data removed]",
      "text/plain": [
       "<Figure size 432x288 with 1 Axes>"
      ]
     },
     "metadata": {
      "needs_background": "light"
     },
     "output_type": "display_data"
    }
   ],
   "source": [
    "x = np.linspace(-4, 4, 100)\n",
    "sig = sigmoid(x)\n",
    "\n",
    "plt.plot(x, sig)\n",
    "plt.show()"
   ]
  },
  {
   "cell_type": "code",
   "execution_count": 24,
   "metadata": {},
   "outputs": [
    {
     "data": {
      "image/png": "[encoded data removed]",
      "text/plain": [
       "<Figure size 432x288 with 1 Axes>"
      ]
     },
     "metadata": {
      "needs_background": "light"
     },
     "output_type": "display_data"
    }
   ],
   "source": [
    "x = np.linspace(-4, 4, 100)   \n",
    "relu_d = relu(x)  \n",
    "\n",
    "plt.subplot(1, 2, 2)\n",
    "plt.plot(x, relu_d)\n",
    "\n",
    "plt.show()"
   ]
  },
  {
   "cell_type": "code",
   "execution_count": null,
   "metadata": {},
   "outputs": [],
   "source": []
  },
  {
   "cell_type": "code",
   "execution_count": null,
   "metadata": {},
   "outputs": [],
   "source": []
  }
 ],
 "metadata": {
  "kernelspec": {
   "display_name": "keras_study",
   "language": "python",
   "name": "keras_study"
  },
  "language_info": {
   "codemirror_mode": {
    "name": "ipython",
    "version": 3
   },
   "file_extension": ".py",
   "mimetype": "text/x-python",
   "name": "python",
   "nbconvert_exporter": "python",
   "pygments_lexer": "ipython3",
   "version": "3.8.3"
  }
 },
 "nbformat": 4,
 "nbformat_minor": 4
}
